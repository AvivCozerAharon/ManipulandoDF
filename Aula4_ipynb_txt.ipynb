{
  "nbformat": 4,
  "nbformat_minor": 0,
  "metadata": {
    "colab": {
      "provenance": [],
      "collapsed_sections": [],
      "include_colab_link": true
    },
    "kernelspec": {
      "name": "python3",
      "display_name": "Python 3"
    },
    "language_info": {
      "name": "python"
    }
  },
  "cells": [
    {
      "cell_type": "markdown",
      "metadata": {
        "id": "view-in-github",
        "colab_type": "text"
      },
      "source": [
        "<a href=\"https://colab.research.google.com/github/AvivCozerAharon/ManipulandoDF/blob/main/Aula4_ipynb_txt.ipynb\" target=\"_parent\"><img src=\"https://colab.research.google.com/assets/colab-badge.svg\" alt=\"Open In Colab\"/></a>"
      ]
    },
    {
      "cell_type": "markdown",
      "source": [
        "# **Aula 3 - PANDAS parte 2**\n",
        "\n",
        "Pandas é uma biblioteca de código fonte aberto feita para trabalhar com conjuntos de dados complexos. Suas funções podem ser utilizadas para importar, filtrar e extrair informações de um conjunto de dados. Nesta aula veremos os seguintes tópicos:\n",
        "\n",
        "\n",
        "\n",
        "\n",
        "*  Salvando um Dataframe em CSV\n",
        "*  Convertendo um Dataframe em Matrix\n",
        "*  Salvando um Dataframe em Pickle\n",
        "*  Campos calculados\n",
        "*  Agrupando, ordenando, embaralhando conjunto de dados.\n",
        "*  MAPS \n",
        "\n",
        "\n",
        "\n"
      ],
      "metadata": {
        "id": "ZsvXHVq9TSoM"
      }
    },
    {
      "cell_type": "code",
      "execution_count": null,
      "metadata": {
        "id": "fKjOWEjjTNyb"
      },
      "outputs": [],
      "source": [
        "\n",
        "# referência biblioteca https://pandas.pydata.org/docs/search.html?q=display\n",
        "# Importando a biblioteca pandas\n",
        "\n",
        "import pandas as pd\n",
        "\n",
        "# as pd cria uma apelido para pandas, tornando a sintaxe mais prática\n"
      ]
    },
    {
      "cell_type": "markdown",
      "source": [
        "# Salvando um dataframe em CSV\n",
        "\n",
        "Da mesma forma que Importamos um arquivo CSV para um Dataframe, podemos ter a necessidade de fazer a operação inversa.\n",
        "\n",
        "Exemplo:\n",
        "\n"
      ],
      "metadata": {
        "id": "P065Sa9IXvaJ"
      }
    },
    {
      "cell_type": "code",
      "source": [
        "#lendo arquivo csv do google drive\n",
        "\n",
        "\n",
        "\n",
        "import pandas as pd\n",
        "\n",
        "from google.colab import  drive\n",
        "\n",
        "drive.mount('/drive')\n",
        "\n",
        "carro = pd.read_csv(\"/drive/MyDrive/ENG1111/auto-mpg.csv\")\n",
        "\n",
        "# Atualiza os campos nulos da coluna displacement com \"chuchu\"\n",
        "\n",
        "carro[\"displacement\"].fillna(\"chuchu\", inplace = True)\n",
        "\n",
        "#converte Dataframe para CSV e salva no Drive\n",
        "\n",
        "carro.to_csv(\"/drive/MyDrive/ENG1111/novo_auto-mpg.csv\")\n",
        "\n",
        "\n",
        "\n",
        "\n",
        "\n",
        "\n"
      ],
      "metadata": {
        "colab": {
          "base_uri": "https://localhost:8080/"
        },
        "id": "EL8Y82jAYULp",
        "outputId": "c7a30877-ace4-4d31-97dd-cf81e0605abe"
      },
      "execution_count": null,
      "outputs": [
        {
          "output_type": "stream",
          "name": "stdout",
          "text": [
            "Mounted at /drive\n"
          ]
        }
      ]
    },
    {
      "cell_type": "markdown",
      "source": [
        "# Convertendo Dataframe para Matriz\n",
        "\n",
        "Redes neurais podem precisar receber os dados em forma de Matriz. Para tal basta utilizar o comando values.\n",
        "\n"
      ],
      "metadata": {
        "id": "D_MPGVUCbiN0"
      }
    },
    {
      "cell_type": "code",
      "source": [
        "# Converte Dataframe em matriz\n",
        "\n",
        "matriz = carro.values\n",
        "\n",
        "print(matriz)\n",
        "\n",
        "# expotando apenas algumas colunas\n",
        "\n",
        "matriz2 = carro[['cylinders','horsepower',\n",
        "       'acceleration', 'origin']].values\n",
        "\n",
        "print(matriz2)"
      ],
      "metadata": {
        "colab": {
          "base_uri": "https://localhost:8080/"
        },
        "id": "NUbZmz51WRi8",
        "outputId": "5a36838a-7469-4ff6-9d5b-6e2edccd61f9"
      },
      "execution_count": null,
      "outputs": [
        {
          "output_type": "stream",
          "name": "stdout",
          "text": [
            "[[18.0 8 'na' ... 70 1 'chevrolet chevelle malibu']\n",
            " [15.0 8 'na' ... 70 1 'buick skylark 320']\n",
            " [18.0 8 'chuchu' ... 70 1 'plymouth satellite']\n",
            " ...\n",
            " [32.0 4 '135' ... 82 1 'dodge rampage']\n",
            " [28.0 4 '120' ... 82 1 'ford ranger']\n",
            " [31.0 4 '119' ... 82 1 'chevy s-10']]\n",
            "[[  8.  130.   12.    1. ]\n",
            " [  8.  165.   11.5   1. ]\n",
            " [  8.  150.   11.    1. ]\n",
            " ...\n",
            " [  4.   84.   11.6   1. ]\n",
            " [  4.   79.   18.6   1. ]\n",
            " [  4.   82.   19.4   1. ]]\n"
          ]
        }
      ]
    },
    {
      "cell_type": "markdown",
      "source": [
        "## Salvando um Dataframe no formato Pickle\n",
        "\n",
        "Pickel é um formato que permite carregar e salvar dados em formato binário, garantindo uma cópia exata do dado. "
      ],
      "metadata": {
        "id": "PoceYJrqrYac"
      }
    },
    {
      "cell_type": "code",
      "source": [
        "\n",
        "import pickle\n",
        "\n",
        "carro[\"displacement\"].fillna(\"tiktok\", inplace = True)\n",
        "\n",
        "#converte Dataframe para CSV e salva no Drive\n",
        "\n",
        "carro.to_pickle(\"/drive/MyDrive/ENG1111/novo2_auto-mpg.pkl\")\n",
        "\n",
        "\n",
        "\n",
        "\n"
      ],
      "metadata": {
        "id": "u_liFwn3sw3L"
      },
      "execution_count": null,
      "outputs": []
    },
    {
      "cell_type": "markdown",
      "source": [
        "# Campos calculados\n",
        "\n",
        "Podemos criar novas colunas manipulando os dados de outras colunas"
      ],
      "metadata": {
        "id": "Hy158aMeAQ1W"
      }
    },
    {
      "cell_type": "code",
      "source": [
        "#cria uma nova coluna \"peso_kg\" que é resultado da coluna weight * 0.45. O valor é então convertido para o tipo inteiro\n",
        "\n",
        "carro.insert(1, 'peso_kg', (carro['weight'] * 0.45359237).astype(int))\n",
        "\n",
        "pd.set_option('display.max_columns', 6)\n",
        "\n",
        "pd.set_option('display.max_rows', 5)\n",
        "\n",
        "carro\n"
      ],
      "metadata": {
        "id": "bYUOpo7GA4qu"
      },
      "execution_count": null,
      "outputs": []
    },
    {
      "cell_type": "markdown",
      "source": [
        "## Agrupando, ordenando, embaralhando conjunto de dados.\n",
        "\n",
        "Frequentemente temos a necessidade de alterar a ordem com que os dados são organizados dentro de um Dataframe ou agrupa-los de forma conveniente."
      ],
      "metadata": {
        "id": "GDValQfMnzTs"
      }
    },
    {
      "cell_type": "code",
      "source": [
        "import numpy as np\n",
        "\n",
        "# Embaralha os índices do Dataframe e permuta as linhas.\n",
        "\n",
        "carro3 = carro.reindex(np.random.permutation(carro.index))\n",
        "\n",
        "pd.set_option('display.max_columns', 7)\n",
        "pd.set_option('display.max_rows', 5)\n",
        "display(carro3)"
      ],
      "metadata": {
        "id": "1WZ8nJxsBpIj"
      },
      "execution_count": null,
      "outputs": []
    },
    {
      "cell_type": "code",
      "source": [
        "# Ordenando os itens\n",
        "\n",
        "\n",
        "carro = pd.read_csv(\"/drive/MyDrive/ENG1111/auto-mpg.csv\")\n",
        "\n",
        "carro = carro.sort_values(by='car name', ascending=True)\n",
        "print(f\"The first car is: {carro['car name'].iloc[0]}\")\n",
        "      \n",
        "pd.set_option('display.max_columns', 7)\n",
        "pd.set_option('display.max_rows', 5)\n",
        "\n",
        "display(carro)\n",
        "\n",
        "\n",
        "\n"
      ],
      "metadata": {
        "id": "DFqmOs9DEq7C"
      },
      "execution_count": null,
      "outputs": []
    },
    {
      "cell_type": "code",
      "source": [
        "#Agrupando os dados pela média\n",
        "\n",
        "pd.set_option('display.max_columns', 7)\n",
        "pd.set_option('display.max_rows', 100)\n",
        "\n",
        "\n",
        "grupo = carro.groupby('cylinders')[['mpg']].mean()\n",
        "\n",
        "display(grupo)\n",
        "\n",
        "#Agrupando os dados pelos totais da coluna\n",
        "\n",
        "grupo2 = carro.groupby('car name')[['car name']].count()\n",
        "\n",
        "#display(grupo2)\n",
        "\n"
      ],
      "metadata": {
        "id": "9iMCKiEknX33",
        "colab": {
          "base_uri": "https://localhost:8080/",
          "height": 235
        },
        "outputId": "fc641953-edef-4b8f-cbea-21f402e49092"
      },
      "execution_count": null,
      "outputs": [
        {
          "output_type": "error",
          "ename": "NameError",
          "evalue": "ignored",
          "traceback": [
            "\u001b[0;31m---------------------------------------------------------------------------\u001b[0m",
            "\u001b[0;31mNameError\u001b[0m                                 Traceback (most recent call last)",
            "\u001b[0;32m<ipython-input-1-61b292902f62>\u001b[0m in \u001b[0;36m<module>\u001b[0;34m\u001b[0m\n\u001b[1;32m      1\u001b[0m \u001b[0;31m#Agrupando os dados pela média\u001b[0m\u001b[0;34m\u001b[0m\u001b[0;34m\u001b[0m\u001b[0;34m\u001b[0m\u001b[0m\n\u001b[1;32m      2\u001b[0m \u001b[0;34m\u001b[0m\u001b[0m\n\u001b[0;32m----> 3\u001b[0;31m \u001b[0mpd\u001b[0m\u001b[0;34m.\u001b[0m\u001b[0mset_option\u001b[0m\u001b[0;34m(\u001b[0m\u001b[0;34m'display.max_columns'\u001b[0m\u001b[0;34m,\u001b[0m \u001b[0;36m7\u001b[0m\u001b[0;34m)\u001b[0m\u001b[0;34m\u001b[0m\u001b[0;34m\u001b[0m\u001b[0m\n\u001b[0m\u001b[1;32m      4\u001b[0m \u001b[0mpd\u001b[0m\u001b[0;34m.\u001b[0m\u001b[0mset_option\u001b[0m\u001b[0;34m(\u001b[0m\u001b[0;34m'display.max_rows'\u001b[0m\u001b[0;34m,\u001b[0m \u001b[0;36m100\u001b[0m\u001b[0;34m)\u001b[0m\u001b[0;34m\u001b[0m\u001b[0;34m\u001b[0m\u001b[0m\n\u001b[1;32m      5\u001b[0m \u001b[0;34m\u001b[0m\u001b[0m\n",
            "\u001b[0;31mNameError\u001b[0m: name 'pd' is not defined"
          ]
        }
      ]
    },
    {
      "cell_type": "markdown",
      "source": [
        "## Maps\n",
        "\n",
        "A função Maps permite modificar os valores de uma coluna com base em um dionário fornecido. \n",
        "\n",
        "Exemplo:"
      ],
      "metadata": {
        "id": "fOYfWGkGthas"
      }
    },
    {
      "cell_type": "code",
      "source": [
        "#Criamos uma nova coluna com o nome 'origin_name' a partir da coluna ' origin' seguindo as regras do dicionário abaixo\n",
        "\n",
        "carro['origin_name'] = carro['origin'].map(\n",
        "    {1: 'America do Norte', 2: 'Europa', 3: 'Asia'})\n",
        "\n",
        "\n",
        "pd.set_option('display.max_columns', 7)\n",
        "pd.set_option('display.max_rows', 10)\n",
        "display(carro)"
      ],
      "metadata": {
        "id": "R_SJaEsztoxD"
      },
      "execution_count": null,
      "outputs": []
    }
  ]
}